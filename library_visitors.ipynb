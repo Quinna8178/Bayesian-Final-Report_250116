{
 "cells": [
  {
   "cell_type": "code",
   "execution_count": 1,
   "metadata": {},
   "outputs": [],
   "source": [
    "import requests\n",
    "from bs4 import BeautifulSoup\n",
    "import pandas as pd\n",
    "import re\n",
    "from datetime import datetime"
   ]
  },
  {
   "cell_type": "code",
   "execution_count": 13,
   "metadata": {},
   "outputs": [],
   "source": [
    "url = 'https://www.lib.nccu.edu.tw'\n",
    "headers = {'user-agent': 'Mozilla/5.0 (Windows NT 10.0; Win64; x64) AppleWebKit/537.36 (KHTML, like Gecko) Chrome/65.0.3325.181 Safari/537.36'}\n",
    "resp = requests.get(url, headers=headers)\n",
    "#設定編碼為utf-8避免中文亂碼問題\n",
    "resp. encoding = 'utf-g'\n",
    "#將HTML轉成BeautifulSoup物件\n",
    "soup = BeautifulSoup (resp.text, \"html.parser\")\n",
    "## 取得即時資料\n",
    "temp = soup.select('#Dyn_2_2_1 > div > div > section')[0].text\n",
    "temp = temp.replace('\\n',\"\").replace('今日入館人數',\"\")\n",
    "#記錄寫入時間\n",
    "current_time = datetime.now().strftime('%Y-%m-%d %H:%M:%S')\n",
    "## 擷取其中的資料並合成 data.frame\n",
    "numbers = re.findall(r'\\d+', temp)\n",
    "result = pd.DataFrame({\n",
    "    '寫入時間': [current_time],\n",
    "    '中正圖書館': numbers[0],\n",
    "    '達賢圖書館': numbers[1],\n",
    "    '中正悅讀區_A': numbers[2],\n",
    "    '中正悅讀區_B': numbers[3],\n",
    "    '中正悅讀區_C': numbers[4]\n",
    "})\n",
    "\n",
    "result.to_csv('library_visitors.csv', mode='a', \n",
    "              header=not pd.io.common.file_exists('library_visitors.csv'), \n",
    "              index=False, encoding='utf-8-sig')"
   ]
  }
 ],
 "metadata": {
  "kernelspec": {
   "display_name": "ml_py311",
   "language": "python",
   "name": "python3"
  },
  "language_info": {
   "codemirror_mode": {
    "name": "ipython",
    "version": 3
   },
   "file_extension": ".py",
   "mimetype": "text/x-python",
   "name": "python",
   "nbconvert_exporter": "python",
   "pygments_lexer": "ipython3",
   "version": "3.11.9"
  }
 },
 "nbformat": 4,
 "nbformat_minor": 2
}
